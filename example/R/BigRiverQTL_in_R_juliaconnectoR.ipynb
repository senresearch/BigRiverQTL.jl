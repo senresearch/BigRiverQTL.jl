{
 "cells": [
  {
   "cell_type": "markdown",
   "id": "c94887d7-08d5-441f-b04d-3f6da53713b3",
   "metadata": {},
   "source": [
    "# How to use BulkLMM scan from BigRiverQTL in R with JuliaConnectoR?"
   ]
  },
  {
   "cell_type": "markdown",
   "id": "e71351f6-4b27-4c98-9c45-092a633acf69",
   "metadata": {},
   "source": [
    "`JuliaConnectoR` is a package that enables the integration of Julia language into R programming. \n",
    "With `JuliaConnectoR`, users can execute Julia commands and functions within R, utilizing Julia's \n",
    "high-performance computing capabilities while still working within the familiar R environment. \n",
    "The package provides seamless communication between the two languages, allowing for data to be \n",
    "passed between R and Julia with ease. `JuliaConnectoR` also provides for the installation of Julia \n",
    "packages from within R, making it a convenient tool for those looking to leverage the power \n",
    "of Julia while still utilizing R as their primary programming language.   \n",
    "\n",
    "*Note: [Link to the documentation of the package `JuliaConnectoR`](https://github.com/stefan-m-lenz/JuliaConnectoR?tab=readme-ov-file).*"
   ]
  },
  {
   "cell_type": "markdown",
   "id": "d06c5996-3832-4c5e-a635-5791f72dbb20",
   "metadata": {},
   "source": [
    "## Environment and libraries"
   ]
  },
  {
   "cell_type": "code",
   "execution_count": 1,
   "id": "8d3f9ff4-5db1-4cb7-9122-13d17c5ba19b",
   "metadata": {},
   "outputs": [
    {
     "name": "stderr",
     "output_type": "stream",
     "text": [
      "Loading required package: JuliaConnectoR\n",
      "\n",
      "Loading required package: png\n",
      "\n"
     ]
    }
   ],
   "source": [
    "if (!require(JuliaConnectoR)) {\n",
    "  install.packages(\"JuliaConnectoR\")\n",
    "}\n",
    "if (!require(png)) {\n",
    "  install.packages(\"magick\")\n",
    "}"
   ]
  },
  {
   "cell_type": "code",
   "execution_count": 2,
   "id": "50e97d6e-141b-4dc7-8e3f-b4dd7c38b4de",
   "metadata": {
    "scrolled": true
   },
   "outputs": [
    {
     "name": "stderr",
     "output_type": "stream",
     "text": [
      "Linking to ImageMagick 6.9.13.29\n",
      "Enabled features: cairo, freetype, fftw, ghostscript, heic, lcms, pango, raw, rsvg, webp\n",
      "Disabled features: fontconfig, x11\n",
      "\n"
     ]
    }
   ],
   "source": [
    "# load necessary library\n",
    "library(JuliaConnectoR)\n",
    "library(magick)\n"
   ]
  },
  {
   "cell_type": "markdown",
   "id": "cf11de39-5bd7-4208-b3ae-5317f0f97692",
   "metadata": {},
   "source": [
    "Create a Julia project environment:"
   ]
  },
  {
   "cell_type": "code",
   "execution_count": 3,
   "id": "3839a7b1-7f86-497c-9bd1-8be4eb2c0953",
   "metadata": {},
   "outputs": [
    {
     "name": "stderr",
     "output_type": "stream",
     "text": [
      "Starting Julia ...\n",
      "\n"
     ]
    }
   ],
   "source": [
    "juliaEval('using Pkg')\n",
    "juliaEval('Pkg.activate(\".\")')"
   ]
  },
  {
   "cell_type": "markdown",
   "id": "f731f7a4-aeef-4f8b-8161-7ba48f14ae9d",
   "metadata": {},
   "source": [
    "Install `BigRiverQTL` and `Plots` if it is not already installed in Julia:"
   ]
  },
  {
   "cell_type": "code",
   "execution_count": 4,
   "id": "9ef8c539-6056-46e9-a19a-f83318736187",
   "metadata": {},
   "outputs": [],
   "source": [
    "# Change need2install into TRUE if you need to install the Julia libraries\n",
    "need2install <- FALSE\n",
    "if(need2install){\n",
    "    juliaEval('Pkg.add(\"BigRiverQTL\")')\n",
    "}"
   ]
  },
  {
   "cell_type": "code",
   "execution_count": 5,
   "id": "b31bcf87-b9b5-4281-b8ad-6ec588854e1e",
   "metadata": {},
   "outputs": [],
   "source": [
    "# Change need2install into TRUE if you need to install the Julia libraries\n",
    "need2install <- FALSE\n",
    "if(need2install){\n",
    "    juliaEval('Pkg.add(\"Plots\")')\n",
    "}"
   ]
  },
  {
   "cell_type": "markdown",
   "id": "100f778d-b4a6-40ed-add5-a7e3e2d09e89",
   "metadata": {},
   "source": [
    "Load the library `BigRiverQTL`and `Plots`:"
   ]
  },
  {
   "cell_type": "code",
   "execution_count": 6,
   "id": "ae048cea-11ab-4399-bc0c-10e49b7c49cf",
   "metadata": {},
   "outputs": [],
   "source": [
    " juliaEval('using BigRiverQTL, Plots')"
   ]
  },
  {
   "cell_type": "markdown",
   "id": "80709e33-a5d0-4d27-a7c3-c3b833b09155",
   "metadata": {},
   "source": [
    "Load the `BigRiverQTL` package so that its functions can be accessed from within R."
   ]
  },
  {
   "cell_type": "code",
   "execution_count": 7,
   "id": "62cbd9d6-f125-4d08-ba12-ce191d7776c2",
   "metadata": {},
   "outputs": [],
   "source": [
    "# load BigRiverQTL features available in R\n",
    "BigRiverQTL <- juliaImport(\"BigRiverQTL\")"
   ]
  },
  {
   "cell_type": "markdown",
   "id": "991877ef-c717-4c39-b029-498069016372",
   "metadata": {},
   "source": [
    "## Example - BXD "
   ]
  },
  {
   "cell_type": "markdown",
   "id": "72fd370c-ac59-4f36-91bb-c321ac23edf9",
   "metadata": {},
   "source": [
    "### Data"
   ]
  },
  {
   "cell_type": "code",
   "execution_count": 8,
   "id": "9c02a7d6-d794-4811-9589-aa1d455bcf82",
   "metadata": {},
   "outputs": [
    {
     "data": {
      "text/html": [
       "TRUE"
      ],
      "text/latex": [
       "TRUE"
      ],
      "text/markdown": [
       "TRUE"
      ],
      "text/plain": [
       "[1] TRUE"
      ]
     },
     "metadata": {},
     "output_type": "display_data"
    }
   ],
   "source": [
    "########\n",
    "# Data #\n",
    "########\n",
    "# get path of data example from the package\n",
    "pathBigRiverQTL <- juliaEval('pathof(BigRiverQTL) |> dirname |>dirname')\n",
    "data_path <- file.path(pathBigRiverQTL, \"test\", \"data\", \"BXD\", \"bxd.json\")  \n",
    "\n",
    "# check if path is correct\n",
    "data_path |> file.exists()"
   ]
  },
  {
   "cell_type": "markdown",
   "id": "33e35488-106e-4e1c-a633-e1a5aff74ede",
   "metadata": {},
   "source": [
    "Load bxd data using the function `get_geneticstudydata()`: "
   ]
  },
  {
   "cell_type": "code",
   "execution_count": 9,
   "id": "6319da22-8211-4585-8b70-ecfa8c1418fd",
   "metadata": {
    "lines_to_next_cell": 2
   },
   "outputs": [],
   "source": [
    "# Load bxd data\n",
    "data <- BigRiverQTL$get_geneticstudydata(data_path)"
   ]
  },
  {
   "cell_type": "markdown",
   "id": "048ddf18-5e42-44da-a1be-d31dbcbcc488",
   "metadata": {},
   "source": [
    "The current version of `BigRiverQTL` does not have imputation functions."
   ]
  },
  {
   "cell_type": "code",
   "execution_count": 10,
   "id": "168ea215-ff1d-41a7-92fe-6f75b74f56dd",
   "metadata": {},
   "outputs": [],
   "source": [
    "# The current version of `BigRiverQTL` does not have imputation functions.\n",
    "# Remove the  missing data\n",
    "data <- BigRiverQTL$get_data_completecases(data);"
   ]
  },
  {
   "cell_type": "markdown",
   "id": "f6469a86-3411-4625-adc9-26f462124765",
   "metadata": {},
   "source": [
    "Get the markers info:"
   ]
  },
  {
   "cell_type": "code",
   "execution_count": 11,
   "id": "aff808e5-6b79-4f1f-bbfe-6bf5a3a5828c",
   "metadata": {},
   "outputs": [],
   "source": [
    "# gmap contains makers info \n",
    "gInfo <- data$gmap;"
   ]
  },
  {
   "cell_type": "code",
   "execution_count": 12,
   "id": "73772fd3-860f-49df-8285-6496f098480c",
   "metadata": {},
   "outputs": [
    {
     "data": {
      "text/html": [
       "<style>\n",
       ".list-inline {list-style: none; margin:0; padding: 0}\n",
       ".list-inline>li {display: inline-block}\n",
       ".list-inline>li:not(:last-child)::after {content: \"\\00b7\"; padding: 0 .5ex}\n",
       "</style>\n",
       "<ol class=list-inline><li>'chr'</li><li>'marker_name'</li><li>'pos'</li><li>'unit'</li></ol>\n"
      ],
      "text/latex": [
       "\\begin{enumerate*}\n",
       "\\item 'chr'\n",
       "\\item 'marker\\_name'\n",
       "\\item 'pos'\n",
       "\\item 'unit'\n",
       "\\end{enumerate*}\n"
      ],
      "text/markdown": [
       "1. 'chr'\n",
       "2. 'marker_name'\n",
       "3. 'pos'\n",
       "4. 'unit'\n",
       "\n",
       "\n"
      ],
      "text/plain": [
       "[1] \"chr\"         \"marker_name\" \"pos\"         \"unit\"       "
      ]
     },
     "metadata": {},
     "output_type": "display_data"
    }
   ],
   "source": [
    "juliaGet(gInfo) |> names()"
   ]
  },
  {
   "cell_type": "markdown",
   "id": "17cabee8-bd9e-4ae9-9bac-cf8fb3595a17",
   "metadata": {},
   "source": [
    "Get the phenotype info:"
   ]
  },
  {
   "cell_type": "code",
   "execution_count": 13,
   "id": "eedc568a-8a90-495d-9bbb-bfb15190c8c7",
   "metadata": {},
   "outputs": [],
   "source": [
    "# phenotype info \n",
    "pInfo <- data$phenocov;"
   ]
  },
  {
   "cell_type": "code",
   "execution_count": 14,
   "id": "fa185330-4751-4fef-bcb7-73cab022d52c",
   "metadata": {},
   "outputs": [
    {
     "data": {
      "text/html": [
       "<style>\n",
       ".list-inline {list-style: none; margin:0; padding: 0}\n",
       ".list-inline>li {display: inline-block}\n",
       ".list-inline>li:not(:last-child)::after {content: \"\\00b7\"; padding: 0 .5ex}\n",
       "</style>\n",
       "<ol class=list-inline><li>'traits'</li><li>'descriptions'</li></ol>\n"
      ],
      "text/latex": [
       "\\begin{enumerate*}\n",
       "\\item 'traits'\n",
       "\\item 'descriptions'\n",
       "\\end{enumerate*}\n"
      ],
      "text/markdown": [
       "1. 'traits'\n",
       "2. 'descriptions'\n",
       "\n",
       "\n"
      ],
      "text/plain": [
       "[1] \"traits\"       \"descriptions\""
      ]
     },
     "metadata": {},
     "output_type": "display_data"
    }
   ],
   "source": [
    "juliaGet(pInfo) |> names()"
   ]
  },
  {
   "cell_type": "code",
   "execution_count": 15,
   "id": "89b28c57-fe0d-4419-8f5f-014664a740ae",
   "metadata": {},
   "outputs": [],
   "source": [
    "# phenotype values \n",
    "pheno <- data$pheno$val;"
   ]
  },
  {
   "cell_type": "markdown",
   "id": "ff0e0f5c-4844-44c5-9c6b-700d75803f3c",
   "metadata": {},
   "source": [
    "Get the genotype matrix:"
   ]
  },
  {
   "cell_type": "code",
   "execution_count": 16,
   "id": "236f0fc7-8e55-48f0-8514-3373a0f23263",
   "metadata": {
    "scrolled": true
   },
   "outputs": [],
   "source": [
    "# We can get the genotype matrix using the following command.\n",
    "# For computing reasons, we need to convert the geno matrix in Float64.\n",
    "# One way to do it is to multiply by 1.0\n",
    "geno <- juliaLet(\"reduce(hcat, genoval).*1.0\", genoval = data$geno$val)"
   ]
  },
  {
   "cell_type": "markdown",
   "id": "83613cc8-f7bd-4b92-ac03-0721e122371b",
   "metadata": {},
   "source": [
    "### Preprocessing"
   ]
  },
  {
   "cell_type": "code",
   "execution_count": 17,
   "id": "54804e1d-7061-43d2-8dc0-f0dc80fd7090",
   "metadata": {},
   "outputs": [],
   "source": [
    "#################\n",
    "# Preprocessing #\n",
    "#################\n",
    "traitID <- 868;\n",
    "pheno_y <- pheno[, traitID];\n",
    "idx_not_missing <- which(!is.na(pheno_y));"
   ]
  },
  {
   "cell_type": "markdown",
   "id": "dcef8d6a-ffb8-4c25-b134-1ae56565ddc7",
   "metadata": {},
   "source": [
    "### Kinship"
   ]
  },
  {
   "cell_type": "code",
   "execution_count": 18,
   "id": "ee8b3b60-c604-412e-bc81-72626e7532ba",
   "metadata": {},
   "outputs": [],
   "source": [
    "###########\n",
    "# Kinship #\n",
    "###########\n",
    "kinship <- BigRiverQTL$kinship_gs(geno[idx_not_missing,],0.99);"
   ]
  },
  {
   "cell_type": "markdown",
   "id": "aa548861-1720-465e-8842-cec6977912e7",
   "metadata": {},
   "source": [
    "### Scan"
   ]
  },
  {
   "cell_type": "code",
   "execution_count": 19,
   "id": "cf2286e0-6910-4dcb-9874-b182988a87a9",
   "metadata": {},
   "outputs": [],
   "source": [
    "########\n",
    "# Scan #\n",
    "########\n",
    "\n",
    "single_results_perms <- BigRiverQTL$scan(\n",
    "\tpheno_y[idx_not_missing],\n",
    "\tgeno[idx_not_missing,],\n",
    "\tkinship,\n",
    "\tpermutation_test = TRUE,\n",
    "\tnperms = 1000L\n",
    ");"
   ]
  },
  {
   "cell_type": "markdown",
   "id": "33e1c976-80ee-4f06-88be-1ac165f34c70",
   "metadata": {},
   "source": [
    "### Plots"
   ]
  },
  {
   "cell_type": "code",
   "execution_count": 20,
   "id": "15118c34-98ae-410b-955e-4b37aa699fe3",
   "metadata": {},
   "outputs": [
    {
     "data": {
      "text/html": [
       "'C:\\\\git\\\\gregfa\\\\bigriver\\\\BigRiverQTL.jl\\\\example\\\\R\\\\qtl_plot.png'"
      ],
      "text/latex": [
       "'C:\\textbackslash{}\\textbackslash{}git\\textbackslash{}\\textbackslash{}gregfa\\textbackslash{}\\textbackslash{}bigriver\\textbackslash{}\\textbackslash{}BigRiverQTL.jl\\textbackslash{}\\textbackslash{}example\\textbackslash{}\\textbackslash{}R\\textbackslash{}\\textbackslash{}qtl\\_plot.png'"
      ],
      "text/markdown": [
       "'C:\\\\git\\\\gregfa\\\\bigriver\\\\BigRiverQTL.jl\\\\example\\\\R\\\\qtl_plot.png'"
      ],
      "text/plain": [
       "[1] \"C:\\\\git\\\\gregfa\\\\bigriver\\\\BigRiverQTL.jl\\\\example\\\\R\\\\qtl_plot.png\""
      ]
     },
     "metadata": {},
     "output_type": "display_data"
    }
   ],
   "source": [
    "#########\n",
    "# Plots #\n",
    "#########\n",
    "\n",
    "# QTL plots\n",
    "p <- BigRiverQTL$plot_QTL(single_results_perms, gInfo, mbColname = \"Pos\", dpi = 600L)\n",
    "juliaLet('savefig(p, \"qtl_plot.png\");', p = p)"
   ]
  },
  {
   "cell_type": "code",
   "execution_count": 81,
   "id": "fb887315-65b0-4616-bac9-8e9a2fc86593",
   "metadata": {},
   "outputs": [],
   "source": [
    "# image_read(\"qtl_plot.png\") |> image_scale(\"600\") |> print()"
   ]
  },
  {
   "cell_type": "markdown",
   "id": "b8077f13-f491-4f39-b1b4-b6c92ec6c595",
   "metadata": {},
   "source": [
    "<img src=\"qtl_plot.png\" alt=\"drawing\" width=\"500\" />"
   ]
  },
  {
   "cell_type": "markdown",
   "id": "49f25ed3-8bde-4069-a728-90231262d89b",
   "metadata": {},
   "source": [
    "We can also display directly the figure from Julia:"
   ]
  },
  {
   "cell_type": "code",
   "execution_count": 21,
   "id": "9bf78005-13d2-4b63-89c7-ecd0c8ee3c54",
   "metadata": {},
   "outputs": [],
   "source": [
    "juliaLet('display(p)', p = p)"
   ]
  },
  {
   "cell_type": "code",
   "execution_count": 22,
   "id": "180c2541-7226-459f-b0ca-eb26eaabd810",
   "metadata": {},
   "outputs": [
    {
     "data": {
      "text/html": [
       "'C:\\\\git\\\\gregfa\\\\bigriver\\\\BigRiverQTL.jl\\\\example\\\\R\\\\manhattan_plot.png'"
      ],
      "text/latex": [
       "'C:\\textbackslash{}\\textbackslash{}git\\textbackslash{}\\textbackslash{}gregfa\\textbackslash{}\\textbackslash{}bigriver\\textbackslash{}\\textbackslash{}BigRiverQTL.jl\\textbackslash{}\\textbackslash{}example\\textbackslash{}\\textbackslash{}R\\textbackslash{}\\textbackslash{}manhattan\\_plot.png'"
      ],
      "text/markdown": [
       "'C:\\\\git\\\\gregfa\\\\bigriver\\\\BigRiverQTL.jl\\\\example\\\\R\\\\manhattan_plot.png'"
      ],
      "text/plain": [
       "[1] \"C:\\\\git\\\\gregfa\\\\bigriver\\\\BigRiverQTL.jl\\\\example\\\\R\\\\manhattan_plot.png\""
      ]
     },
     "metadata": {},
     "output_type": "display_data"
    }
   ],
   "source": [
    "# Manhattan plots\n",
    "p <- BigRiverQTL$plot_manhattan(single_results_perms, gInfo, mbColname = \"Pos\", dpi = 660L)\n",
    "juliaLet('savefig(p, \"manhattan_plot.png\");', p = p);"
   ]
  },
  {
   "cell_type": "code",
   "execution_count": 23,
   "id": "d078a2f1-520e-4588-8237-6fd57f4338d8",
   "metadata": {},
   "outputs": [],
   "source": [
    "juliaLet('display(p)', p = p)"
   ]
  },
  {
   "cell_type": "markdown",
   "id": "28a6f030-ebdd-4103-9a7a-adc07d7824b8",
   "metadata": {},
   "source": [
    "<img src=\"manhattan_plot.png\" alt=\"drawing\" width=\"500\" />"
   ]
  },
  {
   "cell_type": "code",
   "execution_count": null,
   "id": "74d4f5f6-1f4d-4030-a4af-2caeade4b6b2",
   "metadata": {},
   "outputs": [],
   "source": []
  }
 ],
 "metadata": {
  "jupytext": {
   "formats": "ipynb,Rmd"
  },
  "kernelspec": {
   "display_name": "R",
   "language": "R",
   "name": "ir"
  },
  "language_info": {
   "codemirror_mode": "r",
   "file_extension": ".r",
   "mimetype": "text/x-r-source",
   "name": "R",
   "pygments_lexer": "r",
   "version": "4.5.1"
  }
 },
 "nbformat": 4,
 "nbformat_minor": 5
}
