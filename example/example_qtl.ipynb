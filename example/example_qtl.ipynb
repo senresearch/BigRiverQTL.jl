{
 "cells": [
  {
   "cell_type": "markdown",
   "id": "13ba2d0d-b024-4bdc-b21d-70e1076405a1",
   "metadata": {},
   "source": [
    "# Example QTL\n",
    "___"
   ]
  },
  {
   "cell_type": "markdown",
   "id": "09c629de-c37f-4298-9295-bca747543cbc",
   "metadata": {},
   "source": [
    "This notebook gives an example of QTL analysis using `BigRiverQTL.jl`."
   ]
  },
  {
   "cell_type": "markdown",
   "id": "ac5d10d4-ed2c-44c0-8156-b7ee67d1be11",
   "metadata": {},
   "source": [
    "## Data"
   ]
  },
  {
   "cell_type": "markdown",
   "id": "0bd9d0c7-800e-4138-8c08-07e7407247c7",
   "metadata": {},
   "source": [
    "In this example, we will use a dataset available from the `R/qtl2` package. Specifically, we will use the BXD dataset, which is obtained from the [GeneNetwork](https://genenetwork.org/) website.\n",
    "\n",
    "You can download the BXD genotype data from the following link:\n",
    "[Download BXD Genotype Data](https://raw.githubusercontent.com/rqtl/qtl2data/master/BXD/bxd.zip)\n"
   ]
  },
  {
   "cell_type": "markdown",
   "id": "878d30b8-8101-4c3d-8ced-f99b20c67fb2",
   "metadata": {},
   "source": [
    "### Example - BXD "
   ]
  },
  {
   "cell_type": "code",
   "execution_count": null,
   "id": "a586da13-d121-4a12-980b-6d16e1d78296",
   "metadata": {},
   "outputs": [],
   "source": [
    "# Libraries\n",
    "using BigRiverQTL\n",
    "using Plots"
   ]
  },
  {
   "cell_type": "markdown",
   "id": "8fc1e239-4608-4f2f-85a4-3cb04a819871",
   "metadata": {},
   "source": [
    "#### Data"
   ]
  },
  {
   "cell_type": "markdown",
   "id": "229d5480-3220-49b9-bfaa-cbfb27f8e7b2",
   "metadata": {},
   "source": [
    "We assume that the data is stored in `..\\data\\BXD` directory."
   ]
  },
  {
   "cell_type": "code",
   "execution_count": null,
   "id": "9c02a7d6-d794-4811-9589-aa1d455bcf82",
   "metadata": {},
   "outputs": [],
   "source": [
    "########\n",
    "# Data #\n",
    "########\n",
    "data_dir = joinpath(@__DIR__, \"../data/BXD/\");\n",
    "file = joinpath(data_dir, \"bxd.json\");"
   ]
  },
  {
   "cell_type": "markdown",
   "id": "6cee6b63-a994-4f68-b75c-3cf6e7b7e2e9",
   "metadata": {},
   "source": [
    "Load bxd data using the function `get_geneticstudydata()`: "
   ]
  },
  {
   "cell_type": "code",
   "execution_count": null,
   "id": "41dbfea7-91b4-4342-bc6f-dca6765d9f2a",
   "metadata": {
    "lines_to_next_cell": 2
   },
   "outputs": [],
   "source": [
    "# Load bxd data\n",
    "data = get_geneticstudydata(file);"
   ]
  },
  {
   "cell_type": "code",
   "execution_count": null,
   "id": "e7086b1b-99b5-40cb-bfdf-f73e994a8ee3",
   "metadata": {},
   "outputs": [],
   "source": [
    "# Data types\n",
    "# gmap contains \n",
    "# makers info \n",
    "gInfo = data.gmap;\n",
    "# pehnotype info \n",
    "pInfo = data.phenocov;\n",
    "# phenotype values \n",
    "pheno = data.pheno.val;\n",
    "\n",
    "\n",
    "# We can get the genotype matrix using the following command:\n",
    "geno = reduce(hcat, data.geno.val);\n",
    "# For computing reasons, we need to convert the geno matrix in Float64\n",
    "geno_processed = convert(Array{Float64}, geno);"
   ]
  },
  {
   "cell_type": "markdown",
   "id": "55e2f77e-d15e-4b72-b029-6bd373908484",
   "metadata": {},
   "source": [
    "#### Preprocessing"
   ]
  },
  {
   "cell_type": "code",
   "execution_count": null,
   "id": "92337adf-1576-4142-9aaa-649577665fd1",
   "metadata": {},
   "outputs": [],
   "source": [
    "#################\n",
    "# Preprocessing #\n",
    "#################\n",
    "traitID = 1112;\n",
    "pheno_y = pheno[:, traitID];\n",
    "pheno_y2=ones(length(pheno_y));\n",
    "idx_nothing = findall(x->x!=nothing,pheno_y)\n",
    "pheno_y2[idx_nothing]=pheno_y[idx_nothing];"
   ]
  },
  {
   "cell_type": "markdown",
   "id": "780ffd62-0d32-4b8c-b0e2-8a1f40256113",
   "metadata": {},
   "source": [
    "#### Kinship"
   ]
  },
  {
   "cell_type": "code",
   "execution_count": null,
   "id": "fae415fc-1a56-415b-b646-8c027a7c1b80",
   "metadata": {},
   "outputs": [],
   "source": [
    "###########\n",
    "# Kinship #\n",
    "###########\n",
    "kinship = kinship_gs(geno_processed,.99);"
   ]
  },
  {
   "cell_type": "markdown",
   "id": "6205b47a-43b2-450d-8032-66d845dac34e",
   "metadata": {},
   "source": [
    "#### Scan"
   ]
  },
  {
   "cell_type": "code",
   "execution_count": null,
   "id": "11ed327a-de19-47f6-9dbb-f481b0d58f07",
   "metadata": {},
   "outputs": [],
   "source": [
    "########\n",
    "# Scan #\n",
    "########\n",
    "\n",
    "single_results_perms = scan(\n",
    "\tpheno_y2,\n",
    "\tgeno_processed,\n",
    "\tkinship;\n",
    "\tpermutation_test = true,\n",
    "\tnperms = 1000,\n",
    ");"
   ]
  },
  {
   "cell_type": "markdown",
   "id": "92d0095a-6d38-43c8-b1e3-8956d59ebe27",
   "metadata": {},
   "source": [
    "#### Preprocessing"
   ]
  },
  {
   "cell_type": "markdown",
   "id": "6a3e5ad7-7e9d-48fb-85b3-bd94a22654d1",
   "metadata": {},
   "source": [
    "#### Plots"
   ]
  },
  {
   "cell_type": "code",
   "execution_count": null,
   "id": "00f37758-5085-4c98-8997-e048ff0ecabe",
   "metadata": {},
   "outputs": [],
   "source": [
    "#########\n",
    "# Plots #\n",
    "#########\n",
    "\n",
    "# QTL plots\n",
    "plot_QTL(single_results_perms, gInfo, mbColname = \"Pos\")\n"
   ]
  },
  {
   "cell_type": "code",
   "execution_count": null,
   "id": "920df7b9-4103-4be6-a2af-2963846a01c2",
   "metadata": {},
   "outputs": [],
   "source": [
    "# Manhattan plots\n",
    "plot_manhattan(single_results_perms, gInfo, mbColname = \"Pos\")"
   ]
  }
 ],
 "metadata": {
  "jupytext": {
   "formats": "ipynb,jl:light"
  },
  "kernelspec": {
   "display_name": "Julia 1.10.4",
   "language": "julia",
   "name": "julia-1.10"
  },
  "language_info": {
   "file_extension": ".jl",
   "mimetype": "application/julia",
   "name": "julia",
   "version": "1.10.4"
  }
 },
 "nbformat": 4,
 "nbformat_minor": 5
}
